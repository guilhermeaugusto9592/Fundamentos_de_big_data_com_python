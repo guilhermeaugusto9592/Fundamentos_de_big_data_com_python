{
  "nbformat": 4,
  "nbformat_minor": 0,
  "metadata": {
    "colab": {
      "provenance": []
    },
    "kernelspec": {
      "name": "python3",
      "display_name": "Python 3"
    },
    "language_info": {
      "name": "python"
    }
  },
  "cells": [
    {
      "cell_type": "markdown",
      "source": [
        "# Conceitos de Pragramação em Python:"
      ],
      "metadata": {
        "id": "5GAltI6FV57q"
      }
    },
    {
      "cell_type": "markdown",
      "source": [
        "# Estruturas Condicionais"
      ],
      "metadata": {
        "id": "SvU8gvQOU0-Y"
      }
    },
    {
      "cell_type": "markdown",
      "source": [
        "### Estruturas Condicionais"
      ],
      "metadata": {
        "id": "43pgwq3Jl5Ox"
      }
    },
    {
      "cell_type": "markdown",
      "source": [
        "Nesta seção iremos trabalhar com as funções <font color=green>if <font color=black>e <font color=green>else.:"
      ],
      "metadata": {
        "id": "FXdbX5P8l4n_"
      }
    },
    {
      "cell_type": "markdown",
      "source": [
        "IF\n",
        "\n",
        "\n"
      ],
      "metadata": {
        "id": "Q4d20oMnfBUn"
      }
    },
    {
      "cell_type": "code",
      "source": [
        "if 5 == 6 :\n",
        "  print('verdadeiro')\n",
        "else:\n",
        "  print('falso')"
      ],
      "metadata": {
        "id": "AfO9WUnuru5u",
        "colab": {
          "base_uri": "https://localhost:8080/"
        },
        "outputId": "f7497327-7422-4d72-b670-acd257433324"
      },
      "execution_count": null,
      "outputs": [
        {
          "output_type": "stream",
          "name": "stdout",
          "text": [
            "falso\n"
          ]
        }
      ]
    },
    {
      "cell_type": "markdown",
      "source": [
        "Maior ou menor"
      ],
      "metadata": {
        "id": "ViULFe-xZrLU"
      }
    },
    {
      "cell_type": "code",
      "source": [
        "if 5 < 6 :\n",
        "  print('verdadeiro')\n",
        "else:\n",
        "  print('falso')"
      ],
      "metadata": {
        "id": "y273rHN-Zrks",
        "colab": {
          "base_uri": "https://localhost:8080/"
        },
        "outputId": "98b37a46-b4f7-424a-d08c-903b7cccdf72"
      },
      "execution_count": null,
      "outputs": [
        {
          "output_type": "stream",
          "name": "stdout",
          "text": [
            "verdadeiro\n"
          ]
        }
      ]
    },
    {
      "cell_type": "markdown",
      "source": [
        "ELIF"
      ],
      "metadata": {
        "id": "W1_pJ081sT50"
      }
    },
    {
      "cell_type": "code",
      "source": [
        "nota = float(input('Valor a nota: '))"
      ],
      "metadata": {
        "id": "5GyRlgyLr5AP",
        "colab": {
          "base_uri": "https://localhost:8080/"
        },
        "outputId": "b19a07e4-736b-4672-dea7-602dcd230d06"
      },
      "execution_count": null,
      "outputs": [
        {
          "name": "stdout",
          "output_type": "stream",
          "text": [
            "Valor a nota: 3\n"
          ]
        }
      ]
    },
    {
      "cell_type": "markdown",
      "source": [
        "Maneira incorreta"
      ],
      "metadata": {
        "id": "NGVUBC38aAhU"
      }
    },
    {
      "cell_type": "code",
      "source": [
        "if nota <= 4:\n",
        "  print('ruim')\n",
        "if 4 < nota <= 7:\n",
        "  print('bom')\n",
        "else :\n",
        "  print('otimo')"
      ],
      "metadata": {
        "id": "n1L3v5Uqsktc",
        "colab": {
          "base_uri": "https://localhost:8080/"
        },
        "outputId": "8f0a00e2-0cdf-4191-8ced-edb6224c9c8c"
      },
      "execution_count": null,
      "outputs": [
        {
          "output_type": "stream",
          "name": "stdout",
          "text": [
            "ruim\n",
            "otimo\n"
          ]
        }
      ]
    },
    {
      "cell_type": "markdown",
      "source": [
        "Maneira Correta"
      ],
      "metadata": {
        "id": "feRrTsdAaETT"
      }
    },
    {
      "cell_type": "code",
      "source": [
        "if nota <= 4:\n",
        "  print('ruim')\n",
        "elif 4 < nota <= 7:\n",
        "  print('bom')\n",
        "else :\n",
        "  print('otimo')"
      ],
      "metadata": {
        "id": "y51k2lLKtggz",
        "colab": {
          "base_uri": "https://localhost:8080/"
        },
        "outputId": "66c7cc7b-341e-4b25-84a8-d0340e4add3b"
      },
      "execution_count": null,
      "outputs": [
        {
          "output_type": "stream",
          "name": "stdout",
          "text": [
            "ruim\n"
          ]
        }
      ]
    },
    {
      "cell_type": "markdown",
      "source": [
        "AND"
      ],
      "metadata": {
        "id": "zuHajXWZuV1K"
      }
    },
    {
      "cell_type": "code",
      "source": [
        "a = b = True\n",
        "c = d = False"
      ],
      "metadata": {
        "id": "iAxRC6N1vZAT"
      },
      "execution_count": null,
      "outputs": []
    },
    {
      "cell_type": "code",
      "source": [
        "if a and b:\n",
        "  print('verdadeiro')\n",
        "else:\n",
        "  print('falso')"
      ],
      "metadata": {
        "id": "V1M2gfozvPgy",
        "colab": {
          "base_uri": "https://localhost:8080/"
        },
        "outputId": "29ab3447-b7cb-4feb-a147-bb86b36e6e0a"
      },
      "execution_count": null,
      "outputs": [
        {
          "output_type": "stream",
          "name": "stdout",
          "text": [
            "verdadeiro\n"
          ]
        }
      ]
    },
    {
      "cell_type": "code",
      "source": [
        "if a and c:\n",
        "  print('verdadeiro')\n",
        "else:\n",
        "  print('falso')"
      ],
      "metadata": {
        "id": "pSzwBWPTv2TN",
        "colab": {
          "base_uri": "https://localhost:8080/"
        },
        "outputId": "78ebaa3c-862e-4337-d52e-5bcdd2d43e72"
      },
      "execution_count": null,
      "outputs": [
        {
          "output_type": "stream",
          "name": "stdout",
          "text": [
            "falso\n"
          ]
        }
      ]
    },
    {
      "cell_type": "markdown",
      "source": [
        "OR"
      ],
      "metadata": {
        "id": "O0AQSdgwv-YQ"
      }
    },
    {
      "cell_type": "code",
      "source": [
        "if a or b:\n",
        "  print('verdadeiro')\n",
        "else:\n",
        "  print('falso')"
      ],
      "metadata": {
        "id": "P2WLIqD9wCz3",
        "colab": {
          "base_uri": "https://localhost:8080/"
        },
        "outputId": "9f54a48d-0cbe-44a2-acc2-dc5578ab2192"
      },
      "execution_count": null,
      "outputs": [
        {
          "output_type": "stream",
          "name": "stdout",
          "text": [
            "verdadeiro\n"
          ]
        }
      ]
    },
    {
      "cell_type": "code",
      "source": [
        "if a or c:\n",
        "  print('verdadeiro')\n",
        "else:\n",
        "  print('falso')"
      ],
      "metadata": {
        "colab": {
          "base_uri": "https://localhost:8080/"
        },
        "id": "DIlVa4StwHYR",
        "outputId": "459b9604-d3a2-466c-fcb7-3ead25135263"
      },
      "execution_count": null,
      "outputs": [
        {
          "output_type": "stream",
          "name": "stdout",
          "text": [
            "verdadeiro\n"
          ]
        }
      ]
    },
    {
      "cell_type": "markdown",
      "source": [
        "IN"
      ],
      "metadata": {
        "id": "fokqlybDwJlm"
      }
    },
    {
      "cell_type": "code",
      "source": [
        "carros = 'Astra, Celta, Polo, Gol, Passat, Uno, Voyage, Siena, Corsa, Capitiva, A3, Kombi, Fusca, Opala'"
      ],
      "metadata": {
        "id": "KI5-VzXPwOUI"
      },
      "execution_count": null,
      "outputs": []
    },
    {
      "cell_type": "code",
      "source": [
        "carros"
      ],
      "metadata": {
        "id": "JQoV7un6wzpZ",
        "colab": {
          "base_uri": "https://localhost:8080/",
          "height": 35
        },
        "outputId": "7365708a-e42e-466b-b106-7c37b2923906"
      },
      "execution_count": null,
      "outputs": [
        {
          "output_type": "execute_result",
          "data": {
            "text/plain": [
              "'Astra, Celta, Polo, Gol, Passat, Uno, Voyage, Siena, Corsa, Capitiva, A3, Kombi, Fusca, Opala'"
            ],
            "application/vnd.google.colaboratory.intrinsic+json": {
              "type": "string"
            }
          },
          "metadata": {},
          "execution_count": 59
        }
      ]
    },
    {
      "cell_type": "code",
      "source": [
        "carro1 = 'Marea'"
      ],
      "metadata": {
        "id": "0pjbej0mxWQ5"
      },
      "execution_count": null,
      "outputs": []
    },
    {
      "cell_type": "code",
      "source": [
        "if carro1 in carros:\n",
        "  print('está na lista')\n",
        "else:\n",
        "  print('não está')"
      ],
      "metadata": {
        "id": "lh7DTXG1xZfD",
        "colab": {
          "base_uri": "https://localhost:8080/"
        },
        "outputId": "54a3bf65-a8a1-403a-889e-9daeecbb4ee5"
      },
      "execution_count": null,
      "outputs": [
        {
          "output_type": "stream",
          "name": "stdout",
          "text": [
            "não está\n"
          ]
        }
      ]
    },
    {
      "cell_type": "markdown",
      "source": [
        "###Exemplo"
      ],
      "metadata": {
        "id": "JUHLDn6NgB_a"
      }
    },
    {
      "cell_type": "markdown",
      "source": [
        "O sistema de uma empresa categoriza seus funcionários por tempo de empresa.\n",
        "São 4 classes que variam de acordo com o tempo de experiencia que o funcionário tem de empresa.\n",
        "\n",
        "\n",
        "\n",
        "*   Treinee: até 2 anos\n",
        "*   Junior:2 a 4 anos\n",
        "*   Pleno: 4 a 8 anos\n",
        "*   Sênior:Acima de 8\n",
        "\n"
      ],
      "metadata": {
        "id": "tdlo1Ihwgp5O"
      }
    },
    {
      "cell_type": "code",
      "source": [
        "exp = float(input('Digite quantos anos de empresa você tem? '))\n",
        "\n",
        "if exp <= 2:\n",
        "  print('Treinee')\n",
        "elif 2 < exp <= 4:\n",
        "  print('Junior')\n",
        "elif 4 < exp <= 8:\n",
        "  print('Pleno')\n",
        "else :\n",
        "  print('Sênior')\n"
      ],
      "metadata": {
        "colab": {
          "base_uri": "https://localhost:8080/"
        },
        "id": "0_hvmI-igHSQ",
        "outputId": "cb0cca41-71a7-489b-9601-65a99c2615e3"
      },
      "execution_count": null,
      "outputs": [
        {
          "output_type": "stream",
          "name": "stdout",
          "text": [
            "Digite quantos anos de empresa você tem? 3\n",
            "Junior\n"
          ]
        }
      ]
    },
    {
      "cell_type": "markdown",
      "source": [
        "# Estruturas de Repetição"
      ],
      "metadata": {
        "id": "Kyy8-qfWU9L2"
      }
    },
    {
      "cell_type": "markdown",
      "source": [
        "## Laço While"
      ],
      "metadata": {
        "id": "Vv7yhQBwVB-K"
      }
    },
    {
      "cell_type": "code",
      "source": [
        "contagem_de_numeros = 1\n",
        "while contagem_de_numeros <= 30:\n",
        "  print(contagem_de_numeros)\n",
        "  contagem_de_numeros = contagem_de_numeros + 1"
      ],
      "metadata": {
        "id": "Q1Y0BkqVVIpc",
        "colab": {
          "base_uri": "https://localhost:8080/"
        },
        "outputId": "df2dc041-2641-4353-b2fc-0bac2703915d"
      },
      "execution_count": null,
      "outputs": [
        {
          "output_type": "stream",
          "name": "stdout",
          "text": [
            "1\n",
            "2\n",
            "3\n",
            "4\n",
            "5\n",
            "6\n",
            "7\n",
            "8\n",
            "9\n",
            "10\n",
            "11\n",
            "12\n",
            "13\n",
            "14\n",
            "15\n",
            "16\n",
            "17\n",
            "18\n",
            "19\n",
            "20\n",
            "21\n",
            "22\n",
            "23\n",
            "24\n",
            "25\n",
            "26\n",
            "27\n",
            "28\n",
            "29\n",
            "30\n"
          ]
        }
      ]
    },
    {
      "cell_type": "code",
      "source": [
        "x = 2+2\n",
        "match x:\n",
        "  case 1:\n",
        "    print('Falso')\n",
        "  case 4:\n",
        "    print('Verdadeiro')"
      ],
      "metadata": {
        "colab": {
          "base_uri": "https://localhost:8080/"
        },
        "id": "TR2DXvc9diJH",
        "outputId": "e4916f7e-2a57-4bb1-a3f8-7711006ec5b0"
      },
      "execution_count": null,
      "outputs": [
        {
          "output_type": "stream",
          "name": "stdout",
          "text": [
            "Verdadeiro\n"
          ]
        }
      ]
    },
    {
      "cell_type": "markdown",
      "source": [
        "\n",
        "##Laço For\n"
      ],
      "metadata": {
        "id": "yab5b6t7VJQK"
      }
    },
    {
      "cell_type": "code",
      "source": [
        " for contagem_de_numeros in range(55,5, -1):\n",
        "  print(contagem_de_numeros)"
      ],
      "metadata": {
        "id": "9k4zvfKQVR5z",
        "colab": {
          "base_uri": "https://localhost:8080/"
        },
        "outputId": "cbaa07a7-8a81-49e5-f4ed-3f06a26c7c3b"
      },
      "execution_count": null,
      "outputs": [
        {
          "output_type": "stream",
          "name": "stdout",
          "text": [
            "55\n",
            "54\n",
            "53\n",
            "52\n",
            "51\n",
            "50\n",
            "49\n",
            "48\n",
            "47\n",
            "46\n",
            "45\n",
            "44\n",
            "43\n",
            "42\n",
            "41\n",
            "40\n",
            "39\n",
            "38\n",
            "37\n",
            "36\n",
            "35\n",
            "34\n",
            "33\n",
            "32\n",
            "31\n",
            "30\n",
            "29\n",
            "28\n",
            "27\n",
            "26\n",
            "25\n",
            "24\n",
            "23\n",
            "22\n",
            "21\n",
            "20\n",
            "19\n",
            "18\n",
            "17\n",
            "16\n",
            "15\n",
            "14\n",
            "13\n",
            "12\n",
            "11\n",
            "10\n",
            "9\n",
            "8\n",
            "7\n",
            "6\n"
          ]
        }
      ]
    },
    {
      "cell_type": "markdown",
      "source": [
        "##Exemplo"
      ],
      "metadata": {
        "id": "WNp_HZbtVN1q"
      }
    },
    {
      "cell_type": "code",
      "source": [
        "cont = 1\n",
        "while cont <= 3:\n",
        "  v1 = float(input('Valor 1 = '))\n",
        "  v2 = float(input('Valor 2 = '))\n",
        "\n",
        "  soma = v1+v2\n",
        "  print(soma)\n",
        "  cont = cont + 1"
      ],
      "metadata": {
        "id": "hlMkamJtVQ8F",
        "colab": {
          "base_uri": "https://localhost:8080/",
          "height": 451
        },
        "outputId": "2eb46e59-eb82-4765-d6b9-daef980c9406"
      },
      "execution_count": null,
      "outputs": [
        {
          "output_type": "stream",
          "name": "stdout",
          "text": [
            "Valor 1 = 3\n",
            "Valor 2 = 6\n",
            "9.0\n"
          ]
        },
        {
          "output_type": "error",
          "ename": "KeyboardInterrupt",
          "evalue": "ignored",
          "traceback": [
            "\u001b[0;31m---------------------------------------------------------------------------\u001b[0m",
            "\u001b[0;31mKeyboardInterrupt\u001b[0m                         Traceback (most recent call last)",
            "\u001b[0;32m<ipython-input-76-23ff3426f61c>\u001b[0m in \u001b[0;36m<cell line: 2>\u001b[0;34m()\u001b[0m\n\u001b[1;32m      1\u001b[0m \u001b[0mcont\u001b[0m \u001b[0;34m=\u001b[0m \u001b[0;36m1\u001b[0m\u001b[0;34m\u001b[0m\u001b[0;34m\u001b[0m\u001b[0m\n\u001b[1;32m      2\u001b[0m \u001b[0;32mwhile\u001b[0m \u001b[0mcont\u001b[0m \u001b[0;34m<=\u001b[0m \u001b[0;36m3\u001b[0m\u001b[0;34m:\u001b[0m\u001b[0;34m\u001b[0m\u001b[0;34m\u001b[0m\u001b[0m\n\u001b[0;32m----> 3\u001b[0;31m   \u001b[0mv1\u001b[0m \u001b[0;34m=\u001b[0m \u001b[0mfloat\u001b[0m\u001b[0;34m(\u001b[0m\u001b[0minput\u001b[0m\u001b[0;34m(\u001b[0m\u001b[0;34m'Valor 1 = '\u001b[0m\u001b[0;34m)\u001b[0m\u001b[0;34m)\u001b[0m\u001b[0;34m\u001b[0m\u001b[0;34m\u001b[0m\u001b[0m\n\u001b[0m\u001b[1;32m      4\u001b[0m   \u001b[0mv2\u001b[0m \u001b[0;34m=\u001b[0m \u001b[0mfloat\u001b[0m\u001b[0;34m(\u001b[0m\u001b[0minput\u001b[0m\u001b[0;34m(\u001b[0m\u001b[0;34m'Valor 2 = '\u001b[0m\u001b[0;34m)\u001b[0m\u001b[0;34m)\u001b[0m\u001b[0;34m\u001b[0m\u001b[0;34m\u001b[0m\u001b[0m\n\u001b[1;32m      5\u001b[0m \u001b[0;34m\u001b[0m\u001b[0m\n",
            "\u001b[0;32m/usr/local/lib/python3.10/dist-packages/ipykernel/kernelbase.py\u001b[0m in \u001b[0;36mraw_input\u001b[0;34m(self, prompt)\u001b[0m\n\u001b[1;32m    849\u001b[0m                 \u001b[0;34m\"raw_input was called, but this frontend does not support input requests.\"\u001b[0m\u001b[0;34m\u001b[0m\u001b[0;34m\u001b[0m\u001b[0m\n\u001b[1;32m    850\u001b[0m             )\n\u001b[0;32m--> 851\u001b[0;31m         return self._input_request(str(prompt),\n\u001b[0m\u001b[1;32m    852\u001b[0m             \u001b[0mself\u001b[0m\u001b[0;34m.\u001b[0m\u001b[0m_parent_ident\u001b[0m\u001b[0;34m,\u001b[0m\u001b[0;34m\u001b[0m\u001b[0;34m\u001b[0m\u001b[0m\n\u001b[1;32m    853\u001b[0m             \u001b[0mself\u001b[0m\u001b[0;34m.\u001b[0m\u001b[0m_parent_header\u001b[0m\u001b[0;34m,\u001b[0m\u001b[0;34m\u001b[0m\u001b[0;34m\u001b[0m\u001b[0m\n",
            "\u001b[0;32m/usr/local/lib/python3.10/dist-packages/ipykernel/kernelbase.py\u001b[0m in \u001b[0;36m_input_request\u001b[0;34m(self, prompt, ident, parent, password)\u001b[0m\n\u001b[1;32m    893\u001b[0m             \u001b[0;32mexcept\u001b[0m \u001b[0mKeyboardInterrupt\u001b[0m\u001b[0;34m:\u001b[0m\u001b[0;34m\u001b[0m\u001b[0;34m\u001b[0m\u001b[0m\n\u001b[1;32m    894\u001b[0m                 \u001b[0;31m# re-raise KeyboardInterrupt, to truncate traceback\u001b[0m\u001b[0;34m\u001b[0m\u001b[0;34m\u001b[0m\u001b[0m\n\u001b[0;32m--> 895\u001b[0;31m                 \u001b[0;32mraise\u001b[0m \u001b[0mKeyboardInterrupt\u001b[0m\u001b[0;34m(\u001b[0m\u001b[0;34m\"Interrupted by user\"\u001b[0m\u001b[0;34m)\u001b[0m \u001b[0;32mfrom\u001b[0m \u001b[0;32mNone\u001b[0m\u001b[0;34m\u001b[0m\u001b[0;34m\u001b[0m\u001b[0m\n\u001b[0m\u001b[1;32m    896\u001b[0m             \u001b[0;32mexcept\u001b[0m \u001b[0mException\u001b[0m \u001b[0;32mas\u001b[0m \u001b[0me\u001b[0m\u001b[0;34m:\u001b[0m\u001b[0;34m\u001b[0m\u001b[0;34m\u001b[0m\u001b[0m\n\u001b[1;32m    897\u001b[0m                 \u001b[0mself\u001b[0m\u001b[0;34m.\u001b[0m\u001b[0mlog\u001b[0m\u001b[0;34m.\u001b[0m\u001b[0mwarning\u001b[0m\u001b[0;34m(\u001b[0m\u001b[0;34m\"Invalid Message:\"\u001b[0m\u001b[0;34m,\u001b[0m \u001b[0mexc_info\u001b[0m\u001b[0;34m=\u001b[0m\u001b[0;32mTrue\u001b[0m\u001b[0;34m)\u001b[0m\u001b[0;34m\u001b[0m\u001b[0;34m\u001b[0m\u001b[0m\n",
            "\u001b[0;31mKeyboardInterrupt\u001b[0m: Interrupted by user"
          ]
        }
      ]
    },
    {
      "cell_type": "code",
      "source": [
        "for cont in range(1,4):\n",
        "  v1 = float(input('Valor 1 = '))\n",
        "  v2 = float(input('Valor 2 = '))\n",
        "\n",
        "  soma = v1+v2\n",
        "  print(soma)\n"
      ],
      "metadata": {
        "id": "q6F0WG1gdUCO",
        "colab": {
          "base_uri": "https://localhost:8080/"
        },
        "outputId": "fc57194f-a600-48e6-ca51-f00d5fed2d06"
      },
      "execution_count": null,
      "outputs": [
        {
          "output_type": "stream",
          "name": "stdout",
          "text": [
            "Valor 1 = 2\n",
            "Valor 2 = 2\n",
            "4.0\n",
            "Valor 1 = 2\n",
            "Valor 2 = 6\n",
            "8.0\n",
            "Valor 1 = 4\n",
            "Valor 2 = 6\n",
            "10.0\n"
          ]
        }
      ]
    },
    {
      "cell_type": "markdown",
      "source": [
        "# Estruturas de Dados"
      ],
      "metadata": {
        "id": "vDHH9W3MVVTM"
      }
    },
    {
      "cell_type": "markdown",
      "source": [
        "##Listas"
      ],
      "metadata": {
        "id": "c0DcAPf7VZtl"
      }
    },
    {
      "cell_type": "code",
      "source": [
        "lista1 = ['Guilherme', 31, 'Professor','SENAI']"
      ],
      "metadata": {
        "id": "9MxxDEfeVdBf"
      },
      "execution_count": null,
      "outputs": []
    },
    {
      "cell_type": "code",
      "source": [
        "lista1[0]"
      ],
      "metadata": {
        "id": "nBn1Jq7Ikb9e",
        "colab": {
          "base_uri": "https://localhost:8080/",
          "height": 35
        },
        "outputId": "62f5e2d8-243d-4ac0-f3da-d382cce20a75"
      },
      "execution_count": null,
      "outputs": [
        {
          "output_type": "execute_result",
          "data": {
            "text/plain": [
              "'Guilherme'"
            ],
            "application/vnd.google.colaboratory.intrinsic+json": {
              "type": "string"
            }
          },
          "metadata": {},
          "execution_count": 80
        }
      ]
    },
    {
      "cell_type": "code",
      "source": [
        "lista1[1]"
      ],
      "metadata": {
        "id": "B8x2mqG0kcsL",
        "colab": {
          "base_uri": "https://localhost:8080/"
        },
        "outputId": "ae7edffc-7d46-46c9-d84d-00b599fe04d6"
      },
      "execution_count": null,
      "outputs": [
        {
          "output_type": "execute_result",
          "data": {
            "text/plain": [
              "31"
            ]
          },
          "metadata": {},
          "execution_count": 81
        }
      ]
    },
    {
      "cell_type": "code",
      "source": [
        "lista1[:1]"
      ],
      "metadata": {
        "id": "3sqHw_idk2NS",
        "colab": {
          "base_uri": "https://localhost:8080/"
        },
        "outputId": "7675c7e7-a8da-4019-90fe-0cea5441134d"
      },
      "execution_count": null,
      "outputs": [
        {
          "output_type": "execute_result",
          "data": {
            "text/plain": [
              "['Guilherme']"
            ]
          },
          "metadata": {},
          "execution_count": 84
        }
      ]
    },
    {
      "cell_type": "code",
      "source": [
        "lista1[1:4]"
      ],
      "metadata": {
        "id": "WFA5xbxHk2wD",
        "colab": {
          "base_uri": "https://localhost:8080/"
        },
        "outputId": "63242fda-5dbf-4e57-d41b-6bf52f720187"
      },
      "execution_count": null,
      "outputs": [
        {
          "output_type": "execute_result",
          "data": {
            "text/plain": [
              "[31, 'Professor', 'SENAI']"
            ]
          },
          "metadata": {},
          "execution_count": 85
        }
      ]
    },
    {
      "cell_type": "code",
      "source": [
        "lista2 = [2, 3, 4, 5, 6, 7, 9]"
      ],
      "metadata": {
        "id": "1uVNEtyxk3SM"
      },
      "execution_count": null,
      "outputs": []
    },
    {
      "cell_type": "code",
      "source": [
        "max(lista2) - min(lista2)"
      ],
      "metadata": {
        "id": "FP69TJJvk3kl",
        "colab": {
          "base_uri": "https://localhost:8080/"
        },
        "outputId": "5f5cde76-467a-4b17-fd76-7e895e68a5f3"
      },
      "execution_count": null,
      "outputs": [
        {
          "output_type": "execute_result",
          "data": {
            "text/plain": [
              "7"
            ]
          },
          "metadata": {},
          "execution_count": 88
        }
      ]
    },
    {
      "cell_type": "code",
      "source": [
        "import statistics as s\n",
        "s.mean(lista2)"
      ],
      "metadata": {
        "id": "ypIOQkIQlypO",
        "colab": {
          "base_uri": "https://localhost:8080/"
        },
        "outputId": "c525505e-44bb-4d52-dea5-4081c1f68c95"
      },
      "execution_count": null,
      "outputs": [
        {
          "output_type": "execute_result",
          "data": {
            "text/plain": [
              "5.142857142857143"
            ]
          },
          "metadata": {},
          "execution_count": 89
        }
      ]
    },
    {
      "cell_type": "code",
      "source": [
        "var1 = float(input('var'))\n",
        "var2 = float(input('var'))\n",
        "var3 = float(input('var'))\n",
        "\n",
        "\n",
        "lista3 = [var1, var2, var3]"
      ],
      "metadata": {
        "id": "nscy_TpwmHqR",
        "colab": {
          "base_uri": "https://localhost:8080/"
        },
        "outputId": "de430571-f310-42ba-8b82-31c239198294"
      },
      "execution_count": null,
      "outputs": [
        {
          "name": "stdout",
          "output_type": "stream",
          "text": [
            "var6\n",
            "var5\n",
            "var4\n"
          ]
        }
      ]
    },
    {
      "cell_type": "code",
      "source": [
        "s.mean(lista3)"
      ],
      "metadata": {
        "id": "RzDa4Rm_mmGZ",
        "colab": {
          "base_uri": "https://localhost:8080/"
        },
        "outputId": "d352c005-a8d0-4ae4-b352-5a9e53e23bcf"
      },
      "execution_count": null,
      "outputs": [
        {
          "output_type": "execute_result",
          "data": {
            "text/plain": [
              "5.0"
            ]
          },
          "metadata": {},
          "execution_count": 91
        }
      ]
    },
    {
      "cell_type": "code",
      "source": [
        "max(lista3)"
      ],
      "metadata": {
        "id": "mCmiuLCEmycU",
        "colab": {
          "base_uri": "https://localhost:8080/"
        },
        "outputId": "67a96b12-26c9-41ef-9bc3-d2473d1601db"
      },
      "execution_count": null,
      "outputs": [
        {
          "output_type": "execute_result",
          "data": {
            "text/plain": [
              "6.0"
            ]
          },
          "metadata": {},
          "execution_count": 92
        }
      ]
    },
    {
      "cell_type": "markdown",
      "source": [
        "##Dicionários"
      ],
      "metadata": {
        "id": "74elGdgzVdce"
      }
    },
    {
      "cell_type": "code",
      "source": [
        "dicionario1 = {'id':1,\n",
        "               'Nome:':'Guilherme',\n",
        "               'Empresa:':'SENAI'}"
      ],
      "metadata": {
        "id": "mYFLQQWVVg7h"
      },
      "execution_count": null,
      "outputs": []
    },
    {
      "cell_type": "code",
      "source": [
        "dicionario1"
      ],
      "metadata": {
        "colab": {
          "base_uri": "https://localhost:8080/"
        },
        "id": "wzYtBwT6ohAh",
        "outputId": "9dd39f95-d05e-46e9-b9d9-b254aca11e3f"
      },
      "execution_count": null,
      "outputs": [
        {
          "output_type": "execute_result",
          "data": {
            "text/plain": [
              "{'id': 1, 'Nome:': 'Guilherme', 'Empresa:': 'SENAI'}"
            ]
          },
          "metadata": {},
          "execution_count": 3
        }
      ]
    },
    {
      "cell_type": "code",
      "source": [
        "dicionario1['Nome:']"
      ],
      "metadata": {
        "colab": {
          "base_uri": "https://localhost:8080/",
          "height": 35
        },
        "id": "GmgaMUxpetvy",
        "outputId": "3be2847e-3ea9-4179-cb3a-25487d3558a4"
      },
      "execution_count": null,
      "outputs": [
        {
          "output_type": "execute_result",
          "data": {
            "text/plain": [
              "'Guilherme'"
            ],
            "application/vnd.google.colaboratory.intrinsic+json": {
              "type": "string"
            }
          },
          "metadata": {},
          "execution_count": 4
        }
      ]
    },
    {
      "cell_type": "code",
      "source": [
        "dicionario1['Nome:'] = 'Guilherme Augusto de Morais Barbosa'"
      ],
      "metadata": {
        "id": "fBwPdA2eohVX"
      },
      "execution_count": null,
      "outputs": []
    },
    {
      "cell_type": "code",
      "source": [
        "dicionario1"
      ],
      "metadata": {
        "colab": {
          "base_uri": "https://localhost:8080/"
        },
        "id": "cfbLlY4LkBUn",
        "outputId": "0bfcc4b7-5d65-4926-b425-ca928ef20c3e"
      },
      "execution_count": null,
      "outputs": [
        {
          "output_type": "execute_result",
          "data": {
            "text/plain": [
              "{'id': 1, 'Nome:': 'Guilherme Augusto de Morais Barbosa', 'Empresa:': 'SENAI'}"
            ]
          },
          "metadata": {},
          "execution_count": 6
        }
      ]
    },
    {
      "cell_type": "code",
      "source": [
        "dicionario1['e-mail'] = 'guilhermeaugusto9592@gmail.com'"
      ],
      "metadata": {
        "id": "6MKR8ha1fMq5"
      },
      "execution_count": null,
      "outputs": []
    },
    {
      "cell_type": "code",
      "source": [
        "dicionario1"
      ],
      "metadata": {
        "colab": {
          "base_uri": "https://localhost:8080/"
        },
        "id": "8D9hNWxWfYTx",
        "outputId": "49134812-3804-4b5e-e071-5d42a914ef56"
      },
      "execution_count": null,
      "outputs": [
        {
          "output_type": "execute_result",
          "data": {
            "text/plain": [
              "{'id': 1,\n",
              " 'Nome:': 'Guilherme Augusto de Morais Barbosa',\n",
              " 'Empresa:': 'SENAI',\n",
              " 'e-mail': 'guilhermeaugusto9592@gmail.com'}"
            ]
          },
          "metadata": {},
          "execution_count": 8
        }
      ]
    },
    {
      "cell_type": "markdown",
      "source": [
        "# Exercícios"
      ],
      "metadata": {
        "id": "K3vQG7qbVski"
      }
    },
    {
      "cell_type": "markdown",
      "source": [
        "1) Para aprovar candidados em um processo seletivo, a soma dos 3 requisitos deve ser de pelo menos 25.\n",
        "\n",
        "\n",
        "\n",
        "*   Idade\n",
        "*   Experiência\n",
        "*   Tempo de formado\n",
        "\n"
      ],
      "metadata": {
        "id": "-kvuoqKpVwLf"
      }
    },
    {
      "cell_type": "code",
      "source": [
        "var_idade = int(input('Qual sua idade? '))\n",
        "var_exp = int(input('Quanto tempo de experiência? '))\n",
        "var_tem = int(input('Quanto tempo de formado? '))\n",
        "\n",
        "var_soma = var_idade + var_exp + var_tem\n",
        "\n",
        "if var_soma >= 25:\n",
        "  print('Parabéns, você foi aprovado na triagem!')\n",
        "else:\n",
        "  print('Desculpe, infelizmente você não seguirá conosco no processo.')\n"
      ],
      "metadata": {
        "colab": {
          "base_uri": "https://localhost:8080/"
        },
        "id": "DSwLb33NPxso",
        "outputId": "7da8a57d-234a-4107-d616-dee1a4fa27ab"
      },
      "execution_count": null,
      "outputs": [
        {
          "output_type": "stream",
          "name": "stdout",
          "text": [
            "Qual sua idade? 10\n",
            "Quanto tempo de experiência? 5\n",
            "Quanto tempo de formado? 5\n",
            "Desculpe, infelizmente você não seguirá conosco no processo.\n"
          ]
        }
      ]
    },
    {
      "cell_type": "markdown",
      "source": [
        "2) Elaborar um algoritimo para colher 3 notas, calcular a média, e classificar de acordo com as 3 categorias\n",
        "\n",
        "0 a 5,99 - Reprovado\n",
        "\n",
        "*   0 a 5,99 - Reprovado\n",
        "*   6 a 7 - Passou Raspando\n",
        "*   acima de 7 - Aprovado\n"
      ],
      "metadata": {
        "id": "IOPMoliIVybu"
      }
    },
    {
      "cell_type": "code",
      "source": [
        "var_n1 = float(input('Digite o valor da nota 1? '))\n",
        "var_n2 = float(input('Digite o valor da nota 2? '))\n",
        "var_n3 = float(input('Digite o valor da nota 3? '))\n",
        "\n",
        "var_media = (var_n1 + var_n2 + var_n3)/3\n",
        "\n",
        "if var_media <= 5.99:\n",
        "  print('Reprovado')\n",
        "elif 6 <= var_media <= 7:\n",
        "  print('Passou raspando')\n",
        "else :\n",
        "  print('Aprovado')\n"
      ],
      "metadata": {
        "colab": {
          "base_uri": "https://localhost:8080/"
        },
        "id": "X1um3-toRU6v",
        "outputId": "f229e6de-35fd-4370-f494-a88c6f9ba173"
      },
      "execution_count": null,
      "outputs": [
        {
          "output_type": "stream",
          "name": "stdout",
          "text": [
            "Digite o valor da nota 1? 8\n",
            "Digite o valor da nota 2? 9\n",
            "Digite o valor da nota 3? 10\n",
            "Aprovado\n"
          ]
        }
      ]
    },
    {
      "cell_type": "markdown",
      "source": [
        "3) Crie um algoritimo para que o sistema colha o nome, ano, 5 notas de um aluno, armazene todos os dados em uma lista, descarte a menor nota e tire uma média.\n",
        "\n",
        "![image.png](data:image/png;base64,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)"
      ],
      "metadata": {
        "id": "VJ66yC_PqKP4"
      }
    },
    {
      "cell_type": "code",
      "source": [
        "nome = input('Digite seu nome? ')\n",
        "ano = input('Digite o ano de nascimento? ')\n",
        "n1 = float(input('Digite o valor da nota 1? '))\n",
        "n2 = float(input('Digite o valor da nota 2? '))\n",
        "n3 = float(input('Digite o valor da nota 3? '))\n",
        "n4 = float(input('Digite o valor da nota 4? '))\n",
        "n5 = float(input('Digite o valor da nota 5? '))\n",
        "\n",
        "lista4 = [nome, ano, n1, n2, n3, n4, n5]\n",
        "\n",
        "menor_nota = min(lista4[2:])\n",
        "\n",
        "notas_para_media = (sum(lista4[2:]) - menor_nota)\n",
        "\n",
        "media = notas_para_media / 4\n",
        "\n",
        "print(f'Nome: {nome}')\n",
        "print(f'Ano: {ano}')\n",
        "print(f'Nota 1: {n1}')\n",
        "print(f'Nota 2: {n2}')\n",
        "print(f'Nota 3: {n3}')\n",
        "print(f'Nota 4: {n4}')\n",
        "print(f'Nota 5: {n5}')\n",
        "print(f'Nota descartada: {menor_nota}')\n",
        "print(f'Media: {media}')\n"
      ],
      "metadata": {
        "colab": {
          "base_uri": "https://localhost:8080/"
        },
        "id": "5zWwU7y5THww",
        "outputId": "39d73b16-eca8-472c-b194-b31608512b54"
      },
      "execution_count": null,
      "outputs": [
        {
          "output_type": "stream",
          "name": "stdout",
          "text": [
            "Digite seu nome? Guilherme\n",
            "Digite o ano de nascimento? 1992\n",
            "Digite o valor da nota 1? 4\n",
            "Digite o valor da nota 2? 5\n",
            "Digite o valor da nota 3? 6\n",
            "Digite o valor da nota 4? 7\n",
            "Digite o valor da nota 5? 8\n",
            "Nome: Guilherme\n",
            "Ano: 1992\n",
            "Nota 1: 4.0\n",
            "Nota 2: 5.0\n",
            "Nota 3: 6.0\n",
            "Nota 4: 7.0\n",
            "Nota 5: 8.0\n",
            "Nota descartada: 4.0\n",
            "Media: 6.5\n"
          ]
        }
      ]
    },
    {
      "cell_type": "code",
      "source": [],
      "metadata": {
        "id": "eg40ludnT-do"
      },
      "execution_count": null,
      "outputs": []
    }
  ]
}